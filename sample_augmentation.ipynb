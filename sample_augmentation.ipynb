{
 "cells": [
  {
   "cell_type": "code",
   "execution_count": 5,
   "id": "d8c795f1",
   "metadata": {},
   "outputs": [],
   "source": [
    "from osgeo import gdal\n",
    "import os\n",
    "from multiprocessing.pool import ThreadPool\n",
    "import numpy as np"
   ]
  },
  {
   "cell_type": "code",
   "execution_count": 6,
   "id": "50a88d61",
   "metadata": {},
   "outputs": [],
   "source": [
    "def generateFlipped(img):\n",
    "    \n",
    "    #open raster\n",
    "    raster = gdal.Open(img, gdal.GA_ReadOnly)\n",
    "    #get raster info\n",
    "    rows = raster.RasterYSize\n",
    "    cols = raster.RasterXSize\n",
    "    bands = raster.RasterCount\n",
    "    geo_transform = raster.GetGeoTransform()\n",
    "    projection = raster.GetProjectionRef()\n",
    "    \n",
    "    #read raster as array\n",
    "    rasterArray = raster.ReadAsArray()\n",
    "    \n",
    "    def flipArray(direction):\n",
    "        axis = 1 if direction=='V' else 2 if direction=='H' else 3\n",
    " \n",
    "        if axis in [1,2]: #vertical or horizontal\n",
    "            if bands==1:\n",
    "                ar_flipped = np.flip(rasterArray,axis-1)\n",
    "            elif bands>1:\n",
    "                ar_flipped = np.flip(rasterArray,axis)\n",
    "        else: #vertical and horizontal\n",
    "            if bands==1:\n",
    "                ar_flipped = np.flip(np.flip(rasterArray,0),1)\n",
    "            elif bands>1:\n",
    "                ar_flipped = np.flip(np.flip(rasterArray,1),2)\n",
    "                \n",
    "        output_path = img.replace('.tif','_flipped_{}.tif'.format(direction))\n",
    "        createGeotiff(output_path, ar_flipped, geo_transform, projection, bands)\n",
    "    \n",
    "    #create flipped imgs in parallel\n",
    "    pool = ThreadPool()\n",
    "    directions = ['V','H','VH']\n",
    "    results = pool.map(flipArray, directions)\n",
    "    \n",
    "    raster = None\n",
    "    "
   ]
  },
  {
   "cell_type": "code",
   "execution_count": 7,
   "id": "b7e7b111",
   "metadata": {},
   "outputs": [],
   "source": [
    "def createGeotiff(outRaster, data, geo_transform, projection, bands):\n",
    "    # Create a GeoTIFF file with the given data\n",
    "    driver = gdal.GetDriverByName('GTiff')\n",
    "    if len(data.shape)==3:\n",
    "        _ , rows, cols = data.shape\n",
    "    elif len(data.shape)==2:\n",
    "        rows, cols = data.shape\n",
    "    rasterDS = driver.Create(outRaster, cols, rows, bands, gdal.GDT_Int32)\n",
    "    rasterDS.SetGeoTransform(geo_transform)\n",
    "    rasterDS.SetProjection(projection)\n",
    "    if bands==1:\n",
    "        band = rasterDS.GetRasterBand(1)\n",
    "        band.WriteArray(data)\n",
    "    else:\n",
    "        for i in range(bands):\n",
    "            band = rasterDS.GetRasterBand(i+1)\n",
    "            band.WriteArray(data[i])\n",
    "    rasterDS = None"
   ]
  },
  {
   "cell_type": "code",
   "execution_count": 9,
   "id": "cb3fabda",
   "metadata": {},
   "outputs": [],
   "source": [
    "img_folder = r\"/media/daniel/7C42A09342A05424/Users/morae/Desktop/PhD_NovaIMS/Paper 3/Experimentos_DL/Imagem_Sentinel2/Inputs/train/data\"\n",
    "for img in os.listdir(img_folder):\n",
    "\n",
    "    if img.endswith('.tif'):\n",
    "        generateFlipped(os.path.join(img_folder,img))"
   ]
  },
  {
   "cell_type": "code",
   "execution_count": 26,
   "id": "d93dd778",
   "metadata": {},
   "outputs": [
    {
     "data": {
      "text/plain": [
       "array([[1, 2, 3],\n",
       "       [4, 5, 6],\n",
       "       [7, 8, 9]])"
      ]
     },
     "execution_count": 26,
     "metadata": {},
     "output_type": "execute_result"
    }
   ],
   "source": [
    "arr = np.array([[1,2,3],[4,5,6],[7,8,9]])\n",
    "arr\n"
   ]
  },
  {
   "cell_type": "code",
   "execution_count": 31,
   "id": "6e636312",
   "metadata": {},
   "outputs": [
    {
     "data": {
      "text/plain": [
       "array([[3, 2, 1],\n",
       "       [6, 5, 4],\n",
       "       [9, 8, 7]])"
      ]
     },
     "execution_count": 31,
     "metadata": {},
     "output_type": "execute_result"
    }
   ],
   "source": [
    "np.flip(arr,1)"
   ]
  },
  {
   "cell_type": "code",
   "execution_count": null,
   "id": "5575382f",
   "metadata": {},
   "outputs": [],
   "source": []
  }
 ],
 "metadata": {
  "kernelspec": {
   "display_name": "Python 3 (ipykernel)",
   "language": "python",
   "name": "python3"
  },
  "language_info": {
   "codemirror_mode": {
    "name": "ipython",
    "version": 3
   },
   "file_extension": ".py",
   "mimetype": "text/x-python",
   "name": "python",
   "nbconvert_exporter": "python",
   "pygments_lexer": "ipython3",
   "version": "3.9.18"
  }
 },
 "nbformat": 4,
 "nbformat_minor": 5
}
